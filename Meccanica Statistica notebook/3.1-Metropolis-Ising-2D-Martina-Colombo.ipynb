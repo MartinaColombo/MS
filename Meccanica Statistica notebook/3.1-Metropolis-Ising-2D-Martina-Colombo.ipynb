{
 "cells": [
  {
   "cell_type": "code",
   "execution_count": 2,
   "metadata": {},
   "outputs": [],
   "source": [
    "import numpy as np\n",
    "import matplotlib.pyplot as plt\n",
    "from IPython import display\n",
    "%matplotlib inline"
   ]
  },
  {
   "cell_type": "code",
   "execution_count": 3,
   "metadata": {},
   "outputs": [],
   "source": [
    "# %load https://gist.githubusercontent.com/fontclos/a398c95d2841dfb19e864d08c1f60201/raw/fd3d86c9836be250ed34be6ec87c9c7dc43b9d4a/matplotlib_defaults.py\n",
    "import matplotlib as mpl\n",
    "\n",
    "mpl.rcParams['axes.titlesize'] = 16\n",
    "mpl.rcParams['axes.labelsize'] = 14\n",
    "mpl.rcParams['legend.fontsize'] = 12\n",
    "mpl.rcParams['xtick.labelsize'] = 12\n",
    "mpl.rcParams['ytick.labelsize'] = 12"
   ]
  },
  {
   "cell_type": "markdown",
   "metadata": {},
   "source": [
    "# The Metropolis algorithm\n",
    "We will build a simple implementation of the **Metropolis** algorithm for the 2D Ising model. As a reminder, a single update of the Metropolis algorithm works as follows:\n",
    "\n",
    "1. Pick a site $(i, j)$ at random.\n",
    "2. Calculate the energy change $\\Delta E$ that flipping the spin $s_{ij}$ would produce.\n",
    "3. If $\\Delta E <0$, flip the spin with probability $1$.\n",
    "4. If $\\Delta E >0$, flip the spin with probability $e^{-\\beta \\Delta E}$."
   ]
  },
  {
   "cell_type": "code",
   "execution_count": 4,
   "metadata": {},
   "outputs": [
    {
     "data": {
      "text/plain": [
       "'Ho J=1 e H=0'"
      ]
     },
     "execution_count": 4,
     "metadata": {},
     "output_type": "execute_result"
    }
   ],
   "source": [
    "\"\"\"Ho J=1 e H=0\"\"\""
   ]
  },
  {
   "cell_type": "markdown",
   "metadata": {},
   "source": [
    "### Exercice\n",
    "Write a function that, given an integer $N$, returns an $N \\times N$ array whose elements are randomly picked from {-1, 1}. "
   ]
  },
  {
   "cell_type": "code",
   "execution_count": 4,
   "metadata": {},
   "outputs": [],
   "source": [
    "def create_initial_config(N=None):\n",
    "    \"\"\"\n",
    "    Create the starting initial configuration.\n",
    "    \n",
    "    All elements are [-1, 1] with 50% prob.\n",
    "    The lattice is a square of size N.\n",
    "    \n",
    "    Parameters\n",
    "    ----------\n",
    "    N : int\n",
    "        The system size.\n",
    "\n",
    "    Returns\n",
    "    -------\n",
    "    config : np.array, (N, N)\n",
    "        A random {-1, 1} array of size (N, N).\n",
    "    \"\"\"\n",
    "    config = np.random.choice([-1,1], size=(N ,N))#reticolo NxN che contiene 1 e -1\n",
    "    \n",
    "    return config"
   ]
  },
  {
   "cell_type": "markdown",
   "metadata": {},
   "source": [
    "Let us create an initail configuration with our `create_inital_config_function`. A system size of $N=100$ will be enough."
   ]
  },
  {
   "cell_type": "code",
   "execution_count": 5,
   "metadata": {},
   "outputs": [],
   "source": [
    "config = create_initial_config(N=100)"
   ]
  },
  {
   "cell_type": "markdown",
   "metadata": {},
   "source": [
    "To plot our system we can use `plt.imshow()`, as follows:"
   ]
  },
  {
   "cell_type": "code",
   "execution_count": 6,
   "metadata": {},
   "outputs": [
    {
     "data": {
      "image/png": "[encoded data removed]",
      "text/plain": [
       "<Figure size 432x288 with 1 Axes>"
      ]
     },
     "metadata": {},
     "output_type": "display_data"
    }
   ],
   "source": [
    "plt.imshow(config);"
   ]
  },
  {
   "cell_type": "markdown",
   "metadata": {},
   "source": [
    "### Exercise \n",
    "We will write our Metropolis update function. Given a site $(i, j)$, what is the change in energy $\\Delta E$ that flipping $S(i, j)$ entails?\n",
    "Recall that only 4 spins are connected to $(i, j)$, so you don't need to compute the energy of the whole system."
   ]
  },
  {
   "cell_type": "markdown",
   "metadata": {},
   "source": [
    "The change in energy is equal to:\n",
    "$\\Delta E$ = 2 $J$ $m_i$ , where $m_i$ = $\\sum_{k=1}^{4} s_k$   it's the sum of the 4 spins connected to $S(i, j)$\n"
   ]
  },
  {
   "cell_type": "markdown",
   "metadata": {},
   "source": [
    "### Exercise\n",
    "Write a function called `metropolis_single_update()`.  \n",
    "The **input** should be:\n",
    "\n",
    "+ *config*, a lattice configuration as an (N, N) array.\n",
    "+ *T*, the temperatue.\n",
    "\n",
    "There is no need to return anything since in python, functions can modify its input, so we will be updating config *inplace*. But it is useful to return the energy change $\\Delta E$ if one later wants to track the energy during simulations. To simplify things, you can use **periodic boundary conditions** (in python, the modulo operator is `%`)."
   ]
  },
  {
   "cell_type": "code",
   "execution_count": 7,
   "metadata": {},
   "outputs": [],
   "source": [
    "def metropolis_single_update(config=None, T=None):\n",
    "    '''\n",
    "    Do a single Monte Carlo update using Metropolis algorithm.\n",
    "    \n",
    "    Parameters\n",
    "    ----------\n",
    "    config : np.array, (N, N)\n",
    "        The current configuration.\n",
    "    T : float\n",
    "        The temperature.\n",
    "\n",
    "    '''\n",
    "    J = 1\n",
    "    \n",
    "    # make sure config is square\n",
    "    N, M = config.shape\n",
    "    assert np.sqrt(N*M) == N\n",
    "    \n",
    "    # choose random site\n",
    "    i = np.random.randint(N)\n",
    "    j = np.random.randint(N)\n",
    "    s =  config[i, j]#sito centrale\n",
    "        \n",
    "    # compute energy cost of flip\n",
    "    # DeltaE is the possible energy cost\n",
    "    # effDeltaE is the real energy cost (depending on whether we did the flip or not)\n",
    "    \n",
    "    #Devo imporre le condizioni al contorno e calcolare la magnetizzazione \n",
    "    \n",
    "    m = config[(i+1)%N, j] +\\\n",
    "        config[i, (j+1)%N] +\\\n",
    "        config[(i-1)%N, j] +\\\n",
    "        config[i, (j-1)%N]\n",
    "\n",
    "    DeltaE = 2*s*m    \n",
    "    effDeltaE = 0\n",
    "    \n",
    "    #valuto l'esponenziale \n",
    "    k = 1/T\n",
    "    e = np.exp((-1)*k*DeltaE)\n",
    "    x = np.random.uniform()\n",
    "\n",
    "    # case DeltaE < 0, flip the spin with prob 1 \n",
    "    if DeltaE < 0:\n",
    "        # flip the sping\n",
    "        s *= -1\n",
    "        # set effective DeltaE to DeltaE \n",
    "        effDeltaE = DeltaE\n",
    "        \n",
    "    # case DeltaE >= 0\n",
    "    elif x < e:\n",
    "        # flip the spin with certain probability\n",
    "        \n",
    "        #valuto l'esponenziale, genero un numero casuale uniformemente distribuito tra 0 e 1 \n",
    "        #se il numero generato è minore del valore dell'esponenziale allora flippo gli spin\n",
    "    \n",
    "        # flip the spin\n",
    "        s *= -1\n",
    "        # set effective Delta E \n",
    "        effDeltaE = DeltaE\n",
    "        \n",
    "    # update configuration\n",
    "    # notice there is no need to return the whole configuration, the function\n",
    "    # will modify config _in_place_\n",
    "    config[i, j] = s\n",
    "    \n",
    "    # but it is clever to return the effective DeltaE, since we have already computed it\n",
    "    # notice that if we didn't flip the spin, the change in energy is 0\n",
    "    return effDeltaE"
   ]
  },
  {
   "cell_type": "markdown",
   "metadata": {},
   "source": [
    "## Visualizing the simulation on real time\n",
    "To see if our Metropolis algorithm works, you might want to simulate systems at different temperatures, and observe how the configuration evolves trought time. To do this you need the `display` module. Below you will find an example of how to use it.\n",
    "\n",
    "For the 2D Ising model, the **critical temperature** is known to be\n",
    "$$\n",
    "T_c = \\frac{2}{\\ln(1+\\sqrt{2})} \\simeq 2.2691853...\n",
    "$$\n",
    "Try executing the cell below at different values of the temperature, for different system size. "
   ]
  },
  {
   "cell_type": "code",
   "execution_count": 8,
   "metadata": {},
   "outputs": [
    {
     "data": {
      "image/png": "[encoded data removed]",
      "text/plain": [
       "<Figure size 432x360 with 1 Axes>"
      ]
     },
     "metadata": {},
     "output_type": "display_data"
    }
   ],
   "source": [
    "T_c = 2/np.log(1+np.sqrt(2))\n",
    "\n",
    "# create initial random configuration\n",
    "config = create_initial_config(N=100)\n",
    "\n",
    "# set up figure, plot first frame\n",
    "fig, ax = plt.subplots(1, 1, figsize=(6,5))\n",
    "# draw the initial configuration,\n",
    "# naming the plot \"im\".\n",
    "im = ax.imshow(config)\n",
    "\n",
    "for t in range(100000):\n",
    "    # update the system\n",
    "    DeltaE = metropolis_single_update(config, T=T_c)\n",
    "    # replot every 1000 MC updates\n",
    "    if t%1000==0:\n",
    "        # update the data of the plot (not the whole figure!)\n",
    "        im.set_data(config)\n",
    "        # rerender\n",
    "        display.display(plt.gcf())\n",
    "        display.clear_output(wait=True)"
   ]
  },
  {
   "cell_type": "markdown",
   "metadata": {},
   "source": [
    "### Exercice\n",
    "Write a function that computes the energy of a configuration, and another that tracks its evolution over time."
   ]
  },
  {
   "cell_type": "code",
   "execution_count": 9,
   "metadata": {},
   "outputs": [],
   "source": [
    "def get_energy(config):\n",
    "    \"\"\"\n",
    "    Compute the energy of a configuration.\n",
    "    \n",
    "    The energy is defined as $E = -\\sum_{(a, b)} S_a S_b$,    \n",
    "    where the sum runs over pairs of adjacent spins.\n",
    "    \n",
    "    Parameters\n",
    "    ----------\n",
    "    config : np.array, (N, N)\n",
    "        The system configuration.\n",
    "        \n",
    "        \n",
    "    Returns\n",
    "    -------\n",
    "    E : float\n",
    "        The energy of the configuration.\n",
    "    \"\"\"\n",
    "    N = len(config)\n",
    "    # list of pairs of adjacent sites as four-element tuples:\n",
    "    # (i0, j0, i1, j1) represents two adjacent sites located\n",
    "    # at (0, j0) and (i1, j1)\n",
    "    horizontal_edges = [\n",
    "        (i , j, (i+1)%N, j)\n",
    "        for i in range(N) for j in range(N)\n",
    "    ]\n",
    "    vertical_edges = [\n",
    "        (i, j, i, (j+1)%N)\n",
    "        for i in range(N) for j in range(N)\n",
    "    ]\n",
    "    # summing lists in python concatenates them\n",
    "    # [1, 2, 3] + [4, 5] = [1, 2, 3, 4, 5]\n",
    "    edges = horizontal_edges + vertical_edges\n",
    "    E = 0\n",
    "    for i1, j1, i2, j2 in edges:\n",
    "        E -= config[i1, j1]*config[i2, j2]\n",
    "    \n",
    "    return E"
   ]
  },
  {
   "cell_type": "code",
   "execution_count": 10,
   "metadata": {},
   "outputs": [],
   "source": [
    "def get_energy_evolution(N=20, T=T_c, n_updates=50000):\n",
    "    \"\"\"\n",
    "    Compute the energy evolution of a 2D Ising instance.\n",
    "    \n",
    "    Parameters\n",
    "    ----------\n",
    "    N : int\n",
    "        The system size.\n",
    "    T : float\n",
    "        The temperature.\n",
    "    n_updates : int\n",
    "        Number of Metropolis updates.\n",
    "        \n",
    "    Returns\n",
    "    -------\n",
    "    Es : np.array, (n_updates, )\n",
    "    \"\"\"\n",
    "    config= create_initial_config(N=N)\n",
    "    E = [get_energy(config)]\n",
    "    \n",
    "    for y in range(n_updates):\n",
    "        E.append(metropolis_single_update(config, T=T_c))\n",
    "    \n",
    "    Es = np.cumsum(E)\n",
    "    \n",
    "    return Es"
   ]
  },
  {
   "cell_type": "markdown",
   "metadata": {},
   "source": [
    "### Exercise\n",
    "Compute the energy of your system during a long simulation, and plot it as a function of time.\n",
    "Can you distinguish two qualitatively different periods? What do they correspond to?"
   ]
  },
  {
   "cell_type": "code",
   "execution_count": 11,
   "metadata": {},
   "outputs": [],
   "source": [
    "S = [10, 40, 100, 150]\n",
    "energy_evolution = {}\n",
    "\n",
    "for x in S:\n",
    "    energy_evolution[x] = get_energy_evolution(N=x, n_updates = 50000)"
   ]
  },
  {
   "cell_type": "code",
   "execution_count": 12,
   "metadata": {},
   "outputs": [
    {
     "data": {
      "text/plain": [
       "<matplotlib.legend.Legend at 0x7f2b64179358>"
      ]
     },
     "execution_count": 12,
     "metadata": {},
     "output_type": "execute_result"
    },
    {
     "data": {
      "image/png": "[encoded data removed]",
      "text/plain": [
       "<Figure size 432x288 with 1 Axes>"
      ]
     },
     "metadata": {},
     "output_type": "display_data"
    }
   ],
   "source": [
    "fig, ax = plt.subplots(1, 1, figsize=(6, 4))\n",
    "\n",
    "for M, E in energy_evolution.items():\n",
    "    ax.semilogx(E/M**2, label=\"N=%d\"%M)\n",
    "\n",
    "ax.set_xlabel(\"Tempo\")\n",
    "ax.set_ylabel(\"Energia\")\n",
    "ax.legend(loc=6)"
   ]
  },
  {
   "cell_type": "markdown",
   "metadata": {},
   "source": [
    "L'energia con l'aumentare del tempo tende al minimo, per sistemi con dimensione (N) piccola si ha una fluttuazione maggiore intorno al minimo, ma mano che aumento la dimensione le fluttuazioni diminuiscono."
   ]
  },
  {
   "cell_type": "markdown",
   "metadata": {},
   "source": [
    "# Efficient Metropolis\n",
    "Our implementation of the Ising model was not very efficient. To do this exercice, we will use part of the code from Sethna's book, which is much more efficient and can be found here:\n",
    "\n",
    "[Sethan's book computer exercices](http://pages.physics.cornell.edu/~myers/teaching/ComputationalMethods/ComputerExercises/Ising/Ising.html)\n",
    "\n",
    "To import code from an external file, we need to add its directory to the PATH\n",
    "\n"
   ]
  },
  {
   "cell_type": "code",
   "execution_count": 14,
   "metadata": {},
   "outputs": [],
   "source": [
    "import sys\n",
    "sys.path.append(\"SethnasBookCode/\")\n",
    "from Ising import IsingModel"
   ]
  },
  {
   "cell_type": "markdown",
   "metadata": {},
   "source": [
    "Their implementation is based on a `Class`, which means we need to instantiate the model. For instance:"
   ]
  },
  {
   "cell_type": "code",
   "execution_count": 15,
   "metadata": {},
   "outputs": [],
   "source": [
    "# create an instance of IsingModel\n",
    "ising = IsingModel(N=100)"
   ]
  },
  {
   "cell_type": "code",
   "execution_count": 16,
   "metadata": {},
   "outputs": [
    {
     "data": {
      "text/plain": [
       "array([[1, 1, 0, ..., 1, 0, 1],\n",
       "       [1, 1, 1, ..., 1, 1, 0],\n",
       "       [0, 0, 0, ..., 0, 0, 1],\n",
       "       ...,\n",
       "       [1, 1, 1, ..., 1, 1, 1],\n",
       "       [1, 1, 1, ..., 0, 1, 1],\n",
       "       [0, 1, 1, ..., 1, 0, 1]])"
      ]
     },
     "execution_count": 16,
     "metadata": {},
     "output_type": "execute_result"
    }
   ],
   "source": [
    "# the state of the system is stored in .lattice\n",
    "ising.lattice"
   ]
  },
  {
   "cell_type": "code",
   "execution_count": 17,
   "metadata": {},
   "outputs": [
    {
     "data": {
      "text/plain": [
       "<matplotlib.image.AxesImage at 0x7fa0c950dac8>"
      ]
     },
     "execution_count": 17,
     "metadata": {},
     "output_type": "execute_result"
    },
    {
     "data": {
      "image/png": "[encoded data removed]",
      "text/plain": [
       "<Figure size 432x288 with 1 Axes>"
      ]
     },
     "metadata": {},
     "output_type": "display_data"
    }
   ],
   "source": [
    "mpl.rcParams['axes.spines.right'] = True\n",
    "mpl.rcParams['axes.spines.top'] = True\n",
    "plt.imshow(ising.lattice)"
   ]
  },
  {
   "cell_type": "markdown",
   "metadata": {},
   "source": [
    "Notice that this implementation uses 0, 1 spins instead of -1, 1 as we are used to! To run the simulation, we call the `.SweepMetropolis()` method. If you go to the source file at `SethnasBookCode/Ising.py`, you can inspect all the code. You will notice that all `.Sweep...()` methods perform $N^2$ updates per time-step. This is useful because time-scales become independent of system size."
   ]
  },
  {
   "cell_type": "code",
   "execution_count": 18,
   "metadata": {},
   "outputs": [],
   "source": [
    "ising.SweepMetropolis(nTimes=100)"
   ]
  },
  {
   "cell_type": "code",
   "execution_count": 19,
   "metadata": {},
   "outputs": [
    {
     "data": {
      "text/plain": [
       "<matplotlib.image.AxesImage at 0x7fa0c94f6080>"
      ]
     },
     "execution_count": 19,
     "metadata": {},
     "output_type": "execute_result"
    },
    {
     "data": {
      "image/png": "[encoded data removed]",
      "text/plain": [
       "<Figure size 432x288 with 1 Axes>"
      ]
     },
     "metadata": {},
     "output_type": "display_data"
    }
   ],
   "source": [
    "plt.imshow(ising.lattice)"
   ]
  },
  {
   "cell_type": "markdown",
   "metadata": {},
   "source": [
    "The cell bellow will display 3 systems side-by-side, running at different temperatures. All parameters are set at the top. Try changing some values and see what happens."
   ]
  },
  {
   "cell_type": "code",
   "execution_count": 20,
   "metadata": {},
   "outputs": [],
   "source": [
    "#################\n",
    "# set parameters\n",
    "system_size = 100\n",
    "H = 0.0\n",
    "T_below = 1.5\n",
    "T_critical = 2.269185314213022\n",
    "T_above = 3.5\n",
    "n_sweeps = 100\n",
    "###############\n",
    "\n",
    "# create three instances of IsingModel\n",
    "ising_below = IsingModel(N=system_size, T=T_below, H=H)\n",
    "ising_critical = IsingModel(N=system_size, T=T_critical, H=H)\n",
    "ising_above = IsingModel(N=system_size, T=T_above, H=H)\n",
    "\n",
    "# give them names\n",
    "isings = [ising_below, ising_critical, ising_above]\n",
    "labels = [\"below $T_c$\", \"at $T_c$\", \"above $T_c$\"]"
   ]
  },
  {
   "cell_type": "code",
   "execution_count": 21,
   "metadata": {},
   "outputs": [
    {
     "data": {
      "image/png": "[encoded data removed]",
      "text/plain": [
       "<Figure size 1224x288 with 3 Axes>"
      ]
     },
     "metadata": {},
     "output_type": "display_data"
    }
   ],
   "source": [
    "fig, axx = plt.subplots(1, 3, figsize=(17,4))\n",
    "heatmap = {}\n",
    "for ax, ising, label in zip(axx, isings, labels):\n",
    "    heatmap[label] = ax.imshow(ising.lattice)\n",
    "    ax.set_title(label, fontsize=16)\n",
    "\n",
    "for _ in range(n_sweeps):\n",
    "    for ax, ising, label in zip(axx, isings, labels):\n",
    "        ising.SweepMetropolis(nTimes=1)\n",
    "        heatmap[label].set_data(ising.lattice)\n",
    "    display.display(plt.gcf())\n",
    "    display.clear_output(wait=True)"
   ]
  },
  {
   "cell_type": "markdown",
   "metadata": {},
   "source": [
    "### Exercice\n",
    "How much faster is Sethna's implementation with respect to ours? Use the cell magic `%%timeit` to measure how long a command takes to execute:"
   ]
  },
  {
   "cell_type": "code",
   "execution_count": 22,
   "metadata": {},
   "outputs": [
    {
     "name": "stdout",
     "output_type": "stream",
     "text": [
      "3min 7s ± 4.26 s per loop (mean ± std. dev. of 7 runs, 1 loop each)\n"
     ]
    }
   ],
   "source": [
    "%%timeit\n",
    "# your Ising implementation running for some number of updates\n",
    "\n",
    "N=100\n",
    "config = create_initial_config(N=N)\n",
    "for _ in range(100*N*N):\n",
    "    metropolis_single_update(config, T=T_c)"
   ]
  },
  {
   "cell_type": "code",
   "execution_count": 23,
   "metadata": {},
   "outputs": [
    {
     "name": "stdout",
     "output_type": "stream",
     "text": [
      "39.5 s ± 127 ms per loop (mean ± std. dev. of 7 runs, 1 loop each)\n"
     ]
    }
   ],
   "source": [
    "%%timeit\n",
    "# Sethan's implementation running for some **equivalent** number of updates\n",
    "ising = IsingModel(N=100)\n",
    "ising.SweepMetropolis(nTimes=100)"
   ]
  },
  {
   "cell_type": "markdown",
   "metadata": {},
   "source": [
    "L'algoritmo del Sethna è 180/39 = circa 5 volte più veloce "
   ]
  },
  {
   "cell_type": "markdown",
   "metadata": {},
   "source": [
    "## Magnetization\n",
    "We will now compute the magnetization $M$ as a function of the temperature $T$. To speed up simulations even more, we will use the Wolff algorithm, which Sethna's code already implements in the `.SweepWolff()` method."
   ]
  },
  {
   "cell_type": "markdown",
   "metadata": {},
   "source": [
    "### Exercise\n",
    "For a system of size $N=100$, approximately how many sweeps of the Wolff algorithm are necessary in practice to be in equilibrium? Try starting with smaller values of $N$, and increase gradually. "
   ]
  },
  {
   "cell_type": "code",
   "execution_count": 75,
   "metadata": {},
   "outputs": [
    {
     "name": "stdout",
     "output_type": "stream",
     "text": [
      "0 -0.615\n",
      "1 -0.8\n",
      "2 -0.93\n",
      "3 -0.87\n",
      "4 -0.86\n",
      "5 -0.87\n",
      "6 -0.94\n",
      "7 -0.91\n",
      "8 -0.905\n",
      "9 -0.945\n",
      "10 -0.85\n",
      "11 -0.695\n",
      "12 -0.89\n",
      "13 -0.84\n",
      "14 -0.92\n",
      "15 -0.85\n",
      "16 -0.835\n",
      "17 -0.855\n",
      "18 -0.865\n",
      "19 -0.96\n",
      "20 -0.92\n",
      "21 -0.97\n",
      "22 -0.89\n",
      "23 -0.95\n",
      "24 -0.975\n",
      "25 -0.93\n",
      "26 -0.89\n",
      "27 -0.875\n",
      "28 -0.94\n",
      "29 -0.84\n"
     ]
    }
   ],
   "source": [
    "# set system size, temperature\n",
    "N = 20\n",
    "ising = IsingModel(N=N, T=2)\n",
    "# run some Wolff sweeps, check if equilibrium\n",
    "for x in range(30):\n",
    "    ising.SweepWolff()#flippa i cluster con stessi valori dello spin\n",
    "    print(x, np.mean(ising.lattice*2-1))"
   ]
  },
  {
   "cell_type": "code",
   "execution_count": 76,
   "metadata": {},
   "outputs": [
    {
     "name": "stdout",
     "output_type": "stream",
     "text": [
      "0 -0.436\n",
      "1 -0.6928\n",
      "2 -0.896\n",
      "3 -0.9216\n",
      "4 -0.9336\n",
      "5 -0.944\n",
      "6 -0.9192\n",
      "7 -0.9072\n",
      "8 -0.9064\n",
      "9 -0.9424\n",
      "10 -0.9032\n",
      "11 -0.884\n",
      "12 -0.86\n",
      "13 -0.8856\n",
      "14 -0.9216\n",
      "15 -0.9304\n",
      "16 -0.9264\n",
      "17 -0.9072\n",
      "18 -0.896\n",
      "19 -0.8848\n",
      "20 -0.9184\n",
      "21 -0.9264\n",
      "22 -0.9384\n",
      "23 -0.8784\n",
      "24 -0.8928\n",
      "25 -0.9024\n",
      "26 -0.9344\n",
      "27 -0.9312\n",
      "28 -0.936\n",
      "29 -0.8904\n"
     ]
    }
   ],
   "source": [
    "# set system size, temperature\n",
    "N = 50\n",
    "ising = IsingModel(N=N, T=2)\n",
    "# run some Wolff sweeps, check if equilibrium\n",
    "for x in range(30):\n",
    "    ising.SweepWolff()\n",
    "    print(x, np.mean(ising.lattice*2-1))"
   ]
  },
  {
   "cell_type": "code",
   "execution_count": 39,
   "metadata": {},
   "outputs": [
    {
     "name": "stdout",
     "output_type": "stream",
     "text": [
      "0 0.2376\n",
      "1 0.4674\n",
      "2 0.6418\n",
      "3 0.6968\n",
      "4 0.8086\n",
      "5 0.8626\n",
      "6 0.9224\n",
      "7 0.9064\n",
      "8 0.9086\n",
      "9 0.8972\n",
      "10 0.9118\n",
      "11 0.9084\n",
      "12 0.9058\n",
      "13 0.9152\n",
      "14 0.9156\n",
      "15 0.9122\n",
      "16 0.9092\n",
      "17 0.9216\n",
      "18 0.9182\n",
      "19 0.9142\n",
      "20 0.9188\n",
      "21 0.9078\n",
      "22 0.9128\n",
      "23 0.9032\n",
      "24 0.9188\n",
      "25 0.9196\n",
      "26 0.9092\n",
      "27 0.908\n",
      "28 0.9102\n",
      "29 0.914\n"
     ]
    }
   ],
   "source": [
    "# set system size, temperature\n",
    "N = 100\n",
    "ising = IsingModel(N=N, T=2)\n",
    "# run some Wolff sweeps, check if equilibrium\n",
    "for x in range(30):\n",
    "    ising.SweepWolff()\n",
    "    print(x, np.mean(ising.lattice*2-1))"
   ]
  },
  {
   "cell_type": "markdown",
   "metadata": {},
   "source": [
    "Per un sistema con con dimensione N grande, ad esempio 100, raggiungo l'equilibrio con un numero di iterazioni dell'algoritmo di Wolff di circa 10, con dimensioni minori l'equilibrio viene raggiunto più lentamente, quindi con interazioni maggiori dell'algoritmo."
   ]
  },
  {
   "cell_type": "markdown",
   "metadata": {},
   "source": [
    "### Exercise\n",
    "Write a function that computes the magnetization of a 2D Ising system after certain equilibration period."
   ]
  },
  {
   "cell_type": "code",
   "execution_count": 24,
   "metadata": {},
   "outputs": [],
   "source": [
    "def calculate_magnetization(system_size=None, temperature=None, equilibration_time=None):\n",
    "    \"\"\"\n",
    "    Calculate the magnetization of a 2D Ising model.\n",
    "    \n",
    "    Parameters\n",
    "    ----------\n",
    "    system_size : int\n",
    "        The lattice size.\n",
    "    temperature : float\n",
    "        The simulation temperature.\n",
    "    equilibration_time : int\n",
    "        Number of Wolff sweeps before measuring M.\n",
    "        \n",
    "    \"\"\"\n",
    "    # instantiate model\n",
    "    ising = IsingModel(N=system_size, T=temperature, seed=np.random.randint(1000))\n",
    "    # equilibrate\n",
    "    ising.SweepWolff(nTimes=equilibration_time)\n",
    "    # compute magnetization\n",
    "    config = ising.lattice*2-1 #traslo per avere una configurzione di 1 e -1\n",
    "    m = config.mean()\n",
    "    \n",
    "    return m\n"
   ]
  },
  {
   "cell_type": "markdown",
   "metadata": {},
   "source": [
    "### Exercise\n",
    "+ Compute the magnetization for a system of size $N=64$, for diverent values of $T\\in[1.5, 3.5]$.\n",
    "+ Remember to choose wisely the equilibration time!\n",
    "+ Plot $|M|$ as a function of $T$, and mark the critical temperature in your plot using the `plt.axvline()` function."
   ]
  },
  {
   "cell_type": "code",
   "execution_count": 25,
   "metadata": {},
   "outputs": [],
   "source": [
    "# define range of temperatures\n",
    "temperatures = np.linspace(1.5, 3.5, num=100)\n",
    "# system size\n",
    "system_size = 64\n",
    "# equilibration time\n",
    "equilibration_time = 40\n",
    "\n",
    "# loop over temperatures, compute magnetizations\n",
    "magnetizations = []\n",
    "for temperature in temperatures:\n",
    "    magnetization = calculate_magnetization(system_size=system_size,\n",
    "                                  temperature=temperature,\n",
    "                                  equilibration_time=equilibration_time, \n",
    "                                 )\n",
    "    magnetizations.append(magnetization)"
   ]
  },
  {
   "cell_type": "code",
   "execution_count": 26,
   "metadata": {},
   "outputs": [
    {
     "data": {
      "text/plain": [
       "Text(0,0.5,'Magnetizzazione $|M|$')"
      ]
     },
     "execution_count": 26,
     "metadata": {},
     "output_type": "execute_result"
    },
    {
     "data": {
      "image/png": "[encoded data removed]",
      "text/plain": [
       "<Figure size 360x288 with 1 Axes>"
      ]
     },
     "metadata": {},
     "output_type": "display_data"
    }
   ],
   "source": [
    "# define critical temperature\n",
    "T_c = 2/np.log(1+np.sqrt(2))\n",
    "\n",
    "mpl.rcParams['axes.spines.right'] = False\n",
    "mpl.rcParams['axes.spines.top'] = False\n",
    "\n",
    "fig, ax = plt.subplots(1, 1, figsize=(5,4))\n",
    "ax.scatter(\n",
    "    temperatures, np.abs(magnetizations),\n",
    "    # style keywords\n",
    "    edgecolors=\"0.3\", color=\"0.5\", s=23)\n",
    "ax.axvline(\n",
    "    T_c,\n",
    "    # style keywords\n",
    "    c=\"0.4\", lw=1, ls=\"dashed\")\n",
    "ax.set_title(\"Grafico magnetizzazione temperatura\")\n",
    "ax.set_xlabel(\"Temperatura $T$\")\n",
    "ax.set_ylabel(\"Magnetizzazione $|M|$\")"
   ]
  },
  {
   "cell_type": "markdown",
   "metadata": {},
   "source": [
    "## Susceptibility and Specific Heat\n"
   ]
  },
  {
   "cell_type": "markdown",
   "metadata": {},
   "source": [
    "In this exercice, we will compute the susceptibility $\\chi$ and the specific heat $C$. Using formula (6.13) in the book, we have that\n",
    "$$\n",
    "C = \\frac{1}{T^2} \\left\\langle (E - \\langle E \\rangle)^2 \\right\\rangle.\n",
    "$$\n",
    "Remember that this is only valid in **equilibrium**, which means that we can only measure energy fluctuations **after a transient** equilibration time."
   ]
  },
  {
   "cell_type": "markdown",
   "metadata": {},
   "source": [
    "### Exercise\n",
    "Find a convenient formula to measure the susceptibility $\\chi$ in a simulation."
   ]
  },
  {
   "cell_type": "markdown",
   "metadata": {},
   "source": [
    "Una formula conveniente per calcolare la suscettibilità è:  \n",
    "$$\n",
    "\\chi = \\left\\langle (M - \\langle M \\rangle)^2 \\right\\rangle \\frac{1}{T}.\n",
    "$$"
   ]
  },
  {
   "cell_type": "markdown",
   "metadata": {},
   "source": [
    "### Exercise\n",
    "Write a function that computes the energy of an Ising configuration"
   ]
  },
  {
   "cell_type": "code",
   "execution_count": 44,
   "metadata": {},
   "outputs": [],
   "source": [
    "def compute_energy(ising):\n",
    "    config = ising.lattice*2-1\n",
    "    N = len(config)\n",
    "    edges = [(i, j, (i+1)%N, j) for i in range(N) for j in range(N) ]\\\n",
    "              + [(i, j, i, (j+1)%N) for i in range(N) for j in range(N) ]\n",
    "    E = 0\n",
    "    for i1, j1, i2, j2 in edges:\n",
    "        E -= config[i1, j1]*config[i2, j2]\n",
    "    return E/N**2"
   ]
  },
  {
   "cell_type": "markdown",
   "metadata": {},
   "source": [
    "### Exercise\n",
    "Write a function that computes the susceptibility and the specific heat of a 2D Ising system. You might use the Wolff algorithm to speed up your simulations."
   ]
  },
  {
   "cell_type": "code",
   "execution_count": 45,
   "metadata": {},
   "outputs": [],
   "source": [
    "def calculate_susceptibility_specific_heat(system_size=None, temperature=None, equilibration_time=None, n_samples=None):\n",
    "    \"\"\"\n",
    "    Simulate a 2D Ising model and measure its\n",
    "    specific heat and susceptibility at equilibrium.\n",
    "    \n",
    "    Parameters\n",
    "    ----------\n",
    "    system_size : int\n",
    "        The lattice side length.\n",
    "    temperature :  float.\n",
    "        The simulation temeperature.\n",
    "    equilibration_time : int\n",
    "        A transient period to allow for thermalization.\n",
    "    n_samples : int\n",
    "        The number of samples taken to compute fluctuations.\n",
    "\n",
    "    \"\"\"\n",
    "    # initiate model\n",
    "    ising = IsingModel(N=system_size, T=temperature)\n",
    "    # thermalize (hopefully!)\n",
    "    ising.SweepWolff(nTimes=equilibration_time)\n",
    "    \n",
    "    # create empty lists for magnetizations, energies, and their squares\n",
    "    ms = []\n",
    "    m2s = []\n",
    "    es = []\n",
    "    e2s = []\n",
    "    \n",
    "    # loop over n_samples \n",
    "    for _ in range(n_samples):\n",
    "        # change from 0,1 to -1,1 notation\n",
    "        config = ising.lattice*2-1\n",
    "        # get magnetization\n",
    "        m = np.abs(config.mean()); m2 = m**2\n",
    "        ms.append(m); m2s.append(m**2)\n",
    "        # get energy\n",
    "        e = compute_energy(ising); e2 = e**2\n",
    "        es.append(e); e2s.append(e**2)\n",
    "        # update system\n",
    "        ising.SweepWolff()\n",
    "    \n",
    "    # compute susceptibility and specific heat\n",
    "    susceptibility = 1/temperature*(np.mean(m2s)-np.mean(ms)**2)\n",
    "    specific_heat = 1/temperature**2*(np.mean(e2s)-np.mean(es)**2)\n",
    "    \n",
    "    return susceptibility, specific_heat"
   ]
  },
  {
   "cell_type": "markdown",
   "metadata": {},
   "source": [
    "### Exercise\n",
    "+ Compute $C$ and $\\chi$ at different temperatures, for a small system of size $N<50$. You will need to find what are the right equilibration times. A good range of temperatures is $T \\in [1.5, 3.5]$.\n",
    "+ Make two plots, showing $\\chi$ and $C$ as a function of $T$. Mark the critical temperature $T_c$ with a vertical line using `ax.axvline(...)`."
   ]
  },
  {
   "cell_type": "code",
   "execution_count": 46,
   "metadata": {},
   "outputs": [],
   "source": [
    "# define range of temperatures: 50 points from 1.5 to 4.\n",
    "temperatures = np.linspace(1.5, 3.5, num=50)\n",
    "# system size\n",
    "system_size = 32\n",
    "# equilibration time\n",
    "equilibration_time = 100\n",
    "# n_samples\n",
    "n_samples = 20\n",
    "\n",
    "# loop over temperatures, compute susceptibility and specific_heat\n",
    "susceptibilities = []\n",
    "specific_heats = []\n",
    "for temperature in temperatures:\n",
    "    susceptibility, specific_heat = calculate_susceptibility_specific_heat(system_size=system_size, temperature=temperature,\n",
    "                                                                            equilibration_time=equilibration_time, n_samples=n_samples,\n",
    "                                                                          )\n",
    "                                                                                                                                                    \n",
    "                                                                           \n",
    "    susceptibilities.append(susceptibility)\n",
    "    specific_heats.append(specific_heat)"
   ]
  },
  {
   "cell_type": "code",
   "execution_count": 74,
   "metadata": {},
   "outputs": [
    {
     "data": {
      "image/png": "[encoded data removed]",
      "text/plain": [
       "<Figure size 432x288 with 2 Axes>"
      ]
     },
     "metadata": {},
     "output_type": "display_data"
    }
   ],
   "source": [
    "plt.subplot(121)\n",
    "plt.plot(temperatures, specific_heats, \"o-\", color=\"#ed8625\")\n",
    "plt.axvline(2.269185314213022, color=\"0.1\", lw=1, ls=\"dashed\")\n",
    "plt.ylabel(\"$C$\")\n",
    "plt.xlabel(\"$T$\")\n",
    "plt.title(\"Calore specifico\");\n",
    "\n",
    "\n",
    "plt.subplot(122)\n",
    "plt.plot(temperatures, susceptibilities, \"o-\", color=\"#1f6ae2\")\n",
    "plt.axvline(2.269185314213022, color=\"0.2\", lw=1, ls=\"dashed\")\n",
    "plt.ylabel(\"$\\chi$\")\n",
    "plt.xlabel(\"$T$\")\n",
    "plt.title(\"Suscettività\")\n",
    "\n",
    "plt.subplots_adjust(left=0.10, right=2)\n"
   ]
  },
  {
   "cell_type": "markdown",
   "metadata": {},
   "source": [
    "### Exercise\n",
    "Discuss whether or not your results proof the existence of a phase transition."
   ]
  },
  {
   "cell_type": "markdown",
   "metadata": {},
   "source": [
    "I risultati trovati provano l'esistenza di una \n",
    "transizione di fase perché alla temperatura critica il sistema subisce un brusco cambiamento sia del calore specifico che della suscettività."
   ]
  }
 ],
 "metadata": {
  "kernelspec": {
   "display_name": "Python 3",
   "language": "python",
   "name": "python3"
  },
  "language_info": {
   "codemirror_mode": {
    "name": "ipython",
    "version": 3
   },
   "file_extension": ".py",
   "mimetype": "text/x-python",
   "name": "python",
   "nbconvert_exporter": "python",
   "pygments_lexer": "ipython3",
   "version": "3.8.0"
  }
 },
 "nbformat": 4,
 "nbformat_minor": 2
}
